{
 "cells": [
  {
   "cell_type": "code",
   "execution_count": 2,
   "metadata": {},
   "outputs": [
    {
     "name": "stdout",
     "output_type": "stream",
     "text": [
      "num2\n",
      "3.9999999999999987\n",
      "num3\n",
      "9.000000000000002\n",
      "num4\n",
      "16.000000000000007\n",
      "num0\n",
      "3.552713678800501e-15\n"
     ]
    }
   ],
   "source": [
    "import numpy as np\n",
    "from sklearn.preprocessing import PolynomialFeatures\n",
    "from sklearn.linear_model import LinearRegression\n",
    "\n",
    "x = np.array([[1],[2],[3]])\n",
    "y = np.array([[1],[4],[9]])\n",
    "\n",
    "poly_features = PolynomialFeatures(degree = 2)\n",
    "x_poly = poly_features.fit_transform(x)\n",
    "\n",
    "model = LinearRegression()\n",
    "model.fit(x_poly, y)\n",
    "\n",
    "bool = True\n",
    "while bool:\n",
    "    myNum = int(input(\"num\"))\n",
    "    new_number = np.array([[myNum]])\n",
    "    new_number_poly = poly_features.transform(new_number)\n",
    "    p_s = model.predict(new_number_poly)[0][0]\n",
    "    print(p_s)\n",
    "    \n",
    "    if(myNum == 0):\n",
    "        bool = False"
   ]
  },
  {
   "cell_type": "markdown",
   "metadata": {},
   "source": []
  },
  {
   "cell_type": "code",
   "execution_count": null,
   "metadata": {},
   "outputs": [],
   "source": []
  }
 ],
 "metadata": {
  "kernelspec": {
   "display_name": "Python 3",
   "language": "python",
   "name": "python3"
  },
  "language_info": {
   "codemirror_mode": {
    "name": "ipython",
    "version": 3
   },
   "file_extension": ".py",
   "mimetype": "text/x-python",
   "name": "python",
   "nbconvert_exporter": "python",
   "pygments_lexer": "ipython3",
   "version": "3.7.3"
  }
 },
 "nbformat": 4,
 "nbformat_minor": 2
}
