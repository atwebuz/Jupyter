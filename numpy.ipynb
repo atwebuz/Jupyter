{
 "cells": [
  {
   "cell_type": "code",
   "execution_count": 25,
   "metadata": {},
   "outputs": [
    {
     "name": "stdout",
     "output_type": "stream",
     "text": [
      "array: \n",
      " [[1 2 3]\n",
      " [4 5 6]\n",
      " [4 3 3]]\n",
      "array a ga 5 qoshildi: \n",
      " [[ 6  7  8]\n",
      " [ 9 10 11]\n",
      " [ 9  8  8]]\n",
      "array b dan 5 ayrildi: \n",
      " [[-3 -2 -1]\n",
      " [ 0  1  2]\n",
      " [ 0 -1 -1]]\n",
      "array ga array qoshildi: \n",
      " [[ 3  5  7]\n",
      " [ 9 11 13]\n",
      " [ 9  7  7]]\n",
      "-------------\n",
      "size:  9\n",
      "shape:  (3, 3)\n"
     ]
    }
   ],
   "source": [
    "import numpy as np\n",
    "\n",
    "a = np.array([[1,2,3], [4,5,6], [4,3,3]])\n",
    "b = np.array([[1,2,3], [4,5,6], [4,3,3]])\n",
    "print(\"array: \\n\",arr)\n",
    "aa = a+5\n",
    "bb = b-4\n",
    "print(\"array a ga 5 qoshildi: \\n\",aa)\n",
    "print(\"array b dan 5 ayrildi: \\n\",bb)\n",
    "c = aa+bb\n",
    "print(\"array ga array qoshildi: \\n\",c)\n",
    "print(\"-------------\")\n",
    "print(\"size: \",aa.size)\n",
    "print(\"shape: \",aa.shape)\n"
   ]
  },
  {
   "cell_type": "code",
   "execution_count": null,
   "metadata": {},
   "outputs": [],
   "source": []
  },
  {
   "cell_type": "code",
   "execution_count": null,
   "metadata": {},
   "outputs": [],
   "source": []
  }
 ],
 "metadata": {
  "kernelspec": {
   "display_name": "Python 3",
   "language": "python",
   "name": "python3"
  },
  "language_info": {
   "codemirror_mode": {
    "name": "ipython",
    "version": 3
   },
   "file_extension": ".py",
   "mimetype": "text/x-python",
   "name": "python",
   "nbconvert_exporter": "python",
   "pygments_lexer": "ipython3",
   "version": "3.7.3"
  }
 },
 "nbformat": 4,
 "nbformat_minor": 2
}
